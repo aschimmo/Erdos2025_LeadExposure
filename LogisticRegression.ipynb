{
 "cells": [
  {
   "cell_type": "code",
   "execution_count": 38,
   "id": "56c54fc4",
   "metadata": {},
   "outputs": [],
   "source": [
    "# Import packages\n",
    "import pandas as pd\n",
    "import numpy as np\n",
    "import matplotlib.pyplot as plt\n",
    "import plotly.express as px\n",
    "import folium\n",
    "from sklearn.neighbors import BallTree\n",
    "from sklearn.linear_model import LogisticRegression\n",
    "from sklearn.model_selection import train_test_split\n",
    "from sklearn.metrics import classification_report\n",
    "\n",
    "from sklearn.model_selection import StratifiedKFold\n",
    "from sklearn.metrics import accuracy_score, precision_score, recall_score, f1_score, roc_auc_score"
   ]
  },
  {
   "cell_type": "code",
   "execution_count": 4,
   "id": "d62d3b7d",
   "metadata": {},
   "outputs": [
    {
     "name": "stderr",
     "output_type": "stream",
     "text": [
      "/var/folders/2l/qpy8_v3d5x7glst5y2hhkz6m0000gn/T/ipykernel_53274/3569997908.py:2: DtypeWarning: Columns (7) have mixed types. Specify dtype option on import or set low_memory=False.\n",
      "  df = pd.read_csv(\"df_cleaned.csv\")\n"
     ]
    }
   ],
   "source": [
    "# Upload the data file\n",
    "df = pd.read_csv(\"df_cleaned.csv\")\n",
    "\n",
    "# Remove homes with unknown service line material\n",
    "df = df[df[\"System-Owned Portion Service Line Material Classification \"] != \"MU\"]\n",
    "\n",
    "# Create binary classification for lead or non-lead pipes\n",
    "df[\"is_lead\"] = (df[\"System-Owned Portion Service Line Material Classification \"]==\"PB\").astype(int)"
   ]
  },
  {
   "cell_type": "code",
   "execution_count": 15,
   "id": "f7faec09",
   "metadata": {},
   "outputs": [
    {
     "name": "stdout",
     "output_type": "stream",
     "text": [
      "              precision    recall  f1-score   support\n",
      "\n",
      "           0       0.99      0.87      0.93     36936\n",
      "           1       0.38      0.89      0.54      3340\n",
      "\n",
      "    accuracy                           0.87     40276\n",
      "   macro avg       0.69      0.88      0.73     40276\n",
      "weighted avg       0.94      0.87      0.89     40276\n",
      "\n"
     ]
    }
   ],
   "source": [
    "# Logistic regression on the data set \n",
    "\n",
    "# Features and target\n",
    "X = df[['YEARBLT']]  # Make sure it's a 2D array\n",
    "y = df['is_lead']\n",
    "\n",
    "# Split into training and testing sets\n",
    "X_train, X_test, y_train, y_test = train_test_split(X, y, test_size=0.2, random_state=42)\n",
    "\n",
    "# Create and fit model\n",
    "model = LogisticRegression(class_weight='balanced')\n",
    "model.fit(X_train, y_train)\n",
    "\n",
    "# Predict and evaluate\n",
    "y_pred = model.predict(X_test)\n",
    "print(classification_report(y_test, y_pred))"
   ]
  },
  {
   "cell_type": "code",
   "execution_count": null,
   "id": "001f7582",
   "metadata": {},
   "outputs": [
    {
     "name": "stdout",
     "output_type": "stream",
     "text": [
      "Lead pipes prevalence: \t \t 8.56%\n",
      "Non-lead pipes prevalence: \t 91.44%\n",
      "Random Guess Accuracy: \t \t 84.35%\n"
     ]
    }
   ],
   "source": [
    "# comprare to random guess\n",
    "lead_counts_city = df[\"System-Owned Portion Service Line Material Classification \"].eq('PB').sum()\n",
    "nonlead_counts_city = df[\"System-Owned Portion Service Line Material Classification \"].isin(['CU','OT','PL']).sum()\n",
    "gal_counts_city = df[\"System-Owned Portion Service Line Material Classification \"].eq('GAL').sum()\n",
    "p_lead = lead_counts_city / (lead_counts_city+nonlead_counts_city+gal_counts_city)\n",
    "\n",
    "# Create table of random guess stats\n",
    "TP_guess = p_lead**2\n",
    "FP_guess = p_lead*(1-p_lead)\n",
    "FN_guess = (1-p_lead)*p_lead\n",
    "TN_guess = (1-p_lead)**2\n",
    "\n",
    "accuracy_guess = p_lead**2 + (1-p_lead)**2\n",
    "precision_guess = p_lead\n",
    "recall_guess = p_lead\n",
    "specificity_guess = TN_guess/(TN_guess+FP_guess)\n",
    "\n",
    "print(f\"Lead pipes prevalence: \\t \\t {p_lead*100:.2f}%\")\n",
    "print(f\"Non-lead pipes prevalence: \\t {(1-p_lead)*100:.2f}%\")\n",
    "print(f\"Random Guess Accuracy: \\t \\t {accuracy_guess*100:.2f}%\")\n"
   ]
  },
  {
   "cell_type": "code",
   "execution_count": null,
   "id": "15b15713",
   "metadata": {},
   "outputs": [
    {
     "name": "stdout",
     "output_type": "stream",
     "text": [
      "Average Metrics:\n",
      "Accuracy:  0.873 (0.030)\n",
      "Precision: 0.394 (0.308)\n",
      "Recall:    0.887 (0.801)\n"
     ]
    }
   ],
   "source": [
    "# Features and target\n",
    "X = df[['YEARBLT']]\n",
    "y = df['is_lead']\n",
    "\n",
    "# Initialize Stratified K-Fold\n",
    "skf = StratifiedKFold(n_splits=5, shuffle=True, random_state=42)\n",
    "\n",
    "# Store metrics\n",
    "accuracies = []\n",
    "precisions = []\n",
    "recalls = []\n",
    "f1s = []\n",
    "aucs = []\n",
    "\n",
    "# Perform cross-validation\n",
    "for train_index, test_index in skf.split(X, y):\n",
    "    X_train, X_test = X.iloc[train_index], X.iloc[test_index]\n",
    "    y_train, y_test = y.iloc[train_index], y.iloc[test_index]\n",
    "\n",
    "    # normalize/scale YEARBLT\n",
    "    from sklearn.preprocessing import StandardScaler\n",
    "    scaler = StandardScaler()\n",
    "    X_train = scaler.fit_transform(X_train)\n",
    "    X_test = scaler.transform(X_test)\n",
    "\n",
    "    # Initialize and fit logistic regression model\n",
    "    model = LogisticRegression(class_weight='balanced')  # Useful if target is imbalanced\n",
    "    model.fit(X_train, y_train)\n",
    "\n",
    "    # Predict\n",
    "    y_pred = model.predict(X_test)\n",
    "    y_proba = model.predict_proba(X_test)[:, 1]\n",
    "\n",
    "    # Evaluate\n",
    "    accuracies.append(accuracy_score(y_test, y_pred))\n",
    "    precisions.append(precision_score(y_test, y_pred))\n",
    "    recalls.append(recall_score(y_test, y_pred))\n",
    "    f1s.append(f1_score(y_test, y_pred))\n",
    "    aucs.append(roc_auc_score(y_test, y_proba))\n",
    "\n",
    "# Print average results\n",
    "print(\"Average Metrics:\")\n",
    "print(f\"Accuracy:  {np.mean(accuracies):.3f} ({np.mean(accuracies)-accuracy_guess:.3f})\")\n",
    "print(f\"Precision: {np.mean(precisions):.3f} ({np.mean(precisions)-precision_guess:.3f})\")\n",
    "print(f\"Recall:    {np.mean(recalls):.3f} ({np.mean(recalls)-recall_guess:.3f})\")\n",
    "#print(f\"F1 Score:  {np.mean(f1s):.3f} ({np.mean(f1s)-accuracy_guess):.3f})\")\n",
    "#print(f\"ROC AUC:   {np.mean(aucs):.3f} ({np.mean(accuracies-accuracy_guess):.3f})\")"
   ]
  },
  {
   "cell_type": "code",
   "execution_count": null,
   "id": "f3a897f1",
   "metadata": {},
   "outputs": [],
   "source": []
  },
  {
   "cell_type": "code",
   "execution_count": null,
   "id": "13edb9e4",
   "metadata": {},
   "outputs": [],
   "source": []
  },
  {
   "cell_type": "code",
   "execution_count": null,
   "id": "c2ca3d57",
   "metadata": {},
   "outputs": [],
   "source": []
  }
 ],
 "metadata": {
  "kernelspec": {
   "display_name": "erdos_summer_2025",
   "language": "python",
   "name": "python3"
  },
  "language_info": {
   "codemirror_mode": {
    "name": "ipython",
    "version": 3
   },
   "file_extension": ".py",
   "mimetype": "text/x-python",
   "name": "python",
   "nbconvert_exporter": "python",
   "pygments_lexer": "ipython3",
   "version": "3.12.10"
  }
 },
 "nbformat": 4,
 "nbformat_minor": 5
}
