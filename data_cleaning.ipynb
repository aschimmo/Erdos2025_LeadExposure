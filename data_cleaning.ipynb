{
 "cells": [
  {
   "cell_type": "markdown",
   "id": "8f915ba8",
   "metadata": {},
   "source": [
    "# Data Cleaning for Lead Exposure Project"
   ]
  },
  {
   "cell_type": "code",
   "execution_count": 1,
   "id": "7f33906f",
   "metadata": {},
   "outputs": [],
   "source": [
    "# Packages to import\n",
    "import pandas as pd\n",
    "import numpy as np\n",
    "import matplotlib.pyplot as plt\n",
    "from rapidfuzz import process,fuzz\n",
    "from sklearn.neighbors import BallTree"
   ]
  },
  {
   "cell_type": "markdown",
   "id": "ca1b6935",
   "metadata": {},
   "source": [
    "### Combine Service Line Inventory and Franklin County Parcel Data"
   ]
  },
  {
   "cell_type": "code",
   "execution_count": 2,
   "id": "6fb323e3",
   "metadata": {},
   "outputs": [
    {
     "name": "stderr",
     "output_type": "stream",
     "text": [
      "/var/folders/2l/qpy8_v3d5x7glst5y2hhkz6m0000gn/T/ipykernel_5054/1256978046.py:5: DtypeWarning: Columns (12,13,14,15,31,33,54,59,64,65) have mixed types. Specify dtype option on import or set low_memory=False.\n",
      "  df_parcel = pd.read_csv(url_parcel)\n"
     ]
    }
   ],
   "source": [
    "# Import data files\n",
    "\n",
    "# Documentation for the parcel data set is located at https://www.franklincountyauditor.com/AUDR-website/media/Documents/FTP/Parcel-CSV-description-of-fields.pdf\n",
    "url_parcel = \"https://apps.franklincountyauditor.com/Parcel_CSV/2025/05/Parcel.csv\"\n",
    "df_parcel = pd.read_csv(url_parcel)\n",
    "\n",
    "# Service Line inventory data set\n",
    "name_sl = \"ServiceLineInventory.csv\"\n",
    "df_sl = pd.read_csv(name_sl)"
   ]
  },
  {
   "cell_type": "code",
   "execution_count": 3,
   "id": "79aca5c1",
   "metadata": {},
   "outputs": [],
   "source": [
    "# Create common Street Address column for both data sets\n",
    "df_sl[\"Street Address\"] = df_sl[\"Street Number\"].astype(str) + ' ' + df_sl[\"Street Name\"]\n",
    "\n",
    "# Delete duplicate rows in each data set\n",
    "df_parcel = df_parcel.drop_duplicates(subset=[\"STADDR\"])\n",
    "df_sl = df_sl.drop_duplicates(subset=[\"Street Address\"])"
   ]
  },
  {
   "cell_type": "code",
   "execution_count": 4,
   "id": "158f7918",
   "metadata": {},
   "outputs": [],
   "source": [
    "# Find matching addresses in both data sets\n",
    "\n",
    "common_values = set(df_sl['Street Address']) & set(df_parcel['STADDR'])\n",
    "num_matches = len(common_values)\n",
    "num_sl = len(df_sl)\n",
    "num_parcel = len(df_parcel)\n",
    "\n",
    "percent_match = num_matches/num_sl*100\n",
    "percent_nomatch = 100-percent_match\n",
    "\n",
    "# Data frame with exact matches for addresses\n",
    "df_match_exact = pd.merge(df_sl, df_parcel, left_on=\"Street Address\", right_on=\"STADDR\", how=\"inner\")"
   ]
  },
  {
   "cell_type": "code",
   "execution_count": 5,
   "id": "287b21b7",
   "metadata": {},
   "outputs": [
    {
     "data": {
      "text/plain": [
       "'\\ndf_non_matches[[\"Best Match\", \"Match Score\"]] = df_non_matches[\"Street Address\"].apply(lambda addr: get_best_match(addr, df_parcel[\\'STADDR\\']))\\ndf_match_near = pd.merge(df_non_matches,df_parcel, left_on=\"Best Match\", right_on=\"STADDR\", how=\"inner\")\\ndf_match_near = df_match_near.dropna(subset=[\\'Best Match\\'])\\n\\ndf_match_near.to_csv(\\'data_match_near.csv\\')\\n'"
      ]
     },
     "execution_count": 5,
     "metadata": {},
     "output_type": "execute_result"
    }
   ],
   "source": [
    "# Pull out all rows from Service Line Inventory without exact address matches\n",
    "df_non_matches = df_sl[~df_sl[\"Street Address\"].isin(df_parcel[\"STADDR\"])]\n",
    "\n",
    "# Consider a small sample of these rows\n",
    "df_non_matches_sample = df_non_matches.sample(n=50)\n",
    "\n",
    "def get_best_match(addr, choices, scorer=fuzz.token_sort_ratio):\n",
    "    '''\n",
    "    Use fuzzy logic package to match addresses. \n",
    "    addr: target address\n",
    "    choices: range of possible addresses to match\n",
    "    scorer: scoring method for fuzzy logic algorithm\n",
    "    returns Pandas series containing the matched address and corresponding score\n",
    "    '''\n",
    "\n",
    "    results = process.extract(addr, choices, scorer=scorer,limit=5, score_cutoff=80)\n",
    "\n",
    "    # If there are no results, return None\n",
    "    if not results:\n",
    "        return pd.Series([None, None])\n",
    "    \n",
    "\n",
    "     # See if address numbers are identical for any of the potential matches\n",
    "    address_no = addr.split()[0]\n",
    "    \n",
    "    for match, score, _ in results:\n",
    "        match_no = match.split()[0]\n",
    "        if match_no == address_no:\n",
    "            return pd.Series([match, score])\n",
    "    \n",
    "    # If no house number matches, return None\n",
    "    return pd.Series([None, None])\n",
    "\n",
    "        \n",
    "## Get matches for sample dataset\n",
    "\"\"\"\n",
    "# Consider a small sample of these rows\n",
    "df_non_matches_sample = df_non_matches.sample(n=50)\n",
    "\n",
    "df_non_matches_sample[[\"Best Match\", \"Match Score\"]] = df_non_matches_sample[\"Street Address\"].apply(lambda addr: get_best_match(addr, df_parcel['STADDR']))\n",
    "df_match_near = pd.merge(df_non_matches_sample, df_parcel, left_on=\"Best Match\", right_on=\"STADDR\", how=\"inner\")\n",
    "df_match_near = df_match_near.dropna(subset=['Best Match'])\n",
    "\"\"\"\n",
    "\n",
    "## Get matches for entire dataset. Uncomment to run code\n",
    "\"\"\"\n",
    "df_non_matches[[\"Best Match\", \"Match Score\"]] = df_non_matches[\"Street Address\"].apply(lambda addr: get_best_match(addr, df_parcel['STADDR']))\n",
    "df_match_near = pd.merge(df_non_matches,df_parcel, left_on=\"Best Match\", right_on=\"STADDR\", how=\"inner\")\n",
    "df_match_near = df_match_near.dropna(subset=['Best Match'])\n",
    "\n",
    "df_match_near.to_csv('data_match_near.csv')\n",
    "\"\"\""
   ]
  },
  {
   "cell_type": "code",
   "execution_count": 6,
   "id": "b79299b4",
   "metadata": {},
   "outputs": [
    {
     "name": "stderr",
     "output_type": "stream",
     "text": [
      "/var/folders/2l/qpy8_v3d5x7glst5y2hhkz6m0000gn/T/ipykernel_5054/4188277848.py:2: DtypeWarning: Columns (1) have mixed types. Specify dtype option on import or set low_memory=False.\n",
      "  df_match_near = pd.read_csv('data_match_near.csv')\n"
     ]
    }
   ],
   "source": [
    "# Load near matches data\n",
    "df_match_near = pd.read_csv('data_match_near.csv')\n",
    "\n",
    "# Clean up the two dataframes so they can be combined\n",
    "df_match_exact[\"Match Score\"] = 100\n",
    "\n",
    "columns_filtered = ['PARCEL ID', 'YEARBLT',\n",
    "                    'Street Number', 'Street Name', 'City', 'Zip Code', 'County', 'Latitude', 'Longitude', \n",
    "                    'System-Owned Portion Service Line Material Classification ',\n",
    "                    'If Non-Lead in Column R.. Was Material Ever Previously Lead?',\n",
    "                    'Customer-Owned Portion Service Line Material Classification']\n",
    "\n",
    "df_match_exact_filtered = df_match_exact[columns_filtered]\n",
    "df_match_near_filtered = df_match_near[columns_filtered]\n",
    "\n",
    "# Dataframe with data for matched addresses in parcel and service line inventory\n",
    "df_match_combined_filtered = pd.concat([df_match_exact_filtered,df_match_near_filtered])\n"
   ]
  },
  {
   "cell_type": "code",
   "execution_count": 7,
   "id": "e74de1c6",
   "metadata": {},
   "outputs": [
    {
     "data": {
      "text/plain": [
       "PARCEL ID                                                           0\n",
       "YEARBLT                                                         13046\n",
       "Street Number                                                       0\n",
       "Street Name                                                         0\n",
       "City                                                                0\n",
       "Zip Code                                                            0\n",
       "County                                                              0\n",
       "Latitude                                                            0\n",
       "Longitude                                                           0\n",
       "System-Owned Portion Service Line Material Classification           0\n",
       "If Non-Lead in Column R.. Was Material Ever Previously Lead?        0\n",
       "Customer-Owned Portion Service Line Material Classification         0\n",
       "dtype: int64"
      ]
     },
     "execution_count": 7,
     "metadata": {},
     "output_type": "execute_result"
    }
   ],
   "source": [
    "# Check for null entries\n",
    "df_match_combined_filtered.isnull().sum()"
   ]
  },
  {
   "cell_type": "code",
   "execution_count": 8,
   "id": "dc208168",
   "metadata": {},
   "outputs": [
    {
     "name": "stdout",
     "output_type": "stream",
     "text": [
      "<class 'pandas.core.frame.DataFrame'>\n",
      "Index: 224499 entries, 0 to 37074\n",
      "Data columns (total 12 columns):\n",
      " #   Column                                                        Non-Null Count   Dtype  \n",
      "---  ------                                                        --------------   -----  \n",
      " 0   PARCEL ID                                                     224499 non-null  object \n",
      " 1   YEARBLT                                                       224499 non-null  float64\n",
      " 2   Street Number                                                 224499 non-null  object \n",
      " 3   Street Name                                                   224499 non-null  object \n",
      " 4   City                                                          224499 non-null  object \n",
      " 5   Zip Code                                                      224499 non-null  object \n",
      " 6   County                                                        224499 non-null  object \n",
      " 7   Latitude                                                      224499 non-null  float64\n",
      " 8   Longitude                                                     224499 non-null  float64\n",
      " 9   System-Owned Portion Service Line Material Classification     224499 non-null  object \n",
      " 10  If Non-Lead in Column R.. Was Material Ever Previously Lead?  224499 non-null  object \n",
      " 11  Customer-Owned Portion Service Line Material Classification   224499 non-null  object \n",
      "dtypes: float64(3), object(9)\n",
      "memory usage: 22.3+ MB\n"
     ]
    }
   ],
   "source": [
    "# Drop rows with null entries\n",
    "df_match_combined_cleaned = df_match_combined_filtered.dropna()\n",
    "df_match_combined_cleaned.info()"
   ]
  },
  {
   "cell_type": "code",
   "execution_count": 9,
   "id": "b5309514",
   "metadata": {},
   "outputs": [
    {
     "name": "stdout",
     "output_type": "stream",
     "text": [
      "Number of unique properties in parcel registry: 424706\n",
      "Number of unique properties listed in service line inventory: 283876\n",
      "Number of exactly matching addresses: 200470 (70.6%)\n",
      "Number of nearly matching addresses: 37075 (13.1%)\n",
      "Number of non-matching addresses: 83406 (16.3%) \n",
      "\n",
      "Total number of properties with matching addresses and non-null entries:\n",
      "224499 (79.1%)\n"
     ]
    }
   ],
   "source": [
    "# Summarize address matching \n",
    "common_values = set(df_sl['Street Address']) & set(df_parcel['STADDR'])\n",
    "num_matches = len(common_values)\n",
    "num_sl = len(df_sl)\n",
    "num_parcel = len(df_parcel)\n",
    "\n",
    "num_near_matches = len(df_match_near)\n",
    "\n",
    "percent_match = num_matches/num_sl*100\n",
    "percent_near_match = num_near_matches/num_sl*100\n",
    "percent_nomatch = 100-percent_match - percent_near_match\n",
    "\n",
    "num_rows_final = len(df_match_combined_cleaned)\n",
    "percent_final = num_rows_final/num_sl*100\n",
    "\n",
    "print(f\"Number of unique properties in parcel registry: {num_parcel}\")\n",
    "print(f\"Number of unique properties listed in service line inventory: {num_sl}\")\n",
    "print(f\"Number of exactly matching addresses: {num_matches} ({percent_match:0.1f}%)\")\n",
    "print(f\"Number of nearly matching addresses: {num_near_matches} ({percent_near_match:0.1f}%)\")\n",
    "print(f\"Number of non-matching addresses: {num_sl-num_matches} ({percent_nomatch:0.1f}%) \\n\")\n",
    "\n",
    "print(f\"Total number of properties with matching addresses and non-null entries:\")\n",
    "print(f\"{num_rows_final} ({percent_final:0.1f}%)\")      \n",
    "\n"
   ]
  },
  {
   "cell_type": "code",
   "execution_count": 10,
   "id": "25a91d49",
   "metadata": {},
   "outputs": [
    {
     "name": "stdout",
     "output_type": "stream",
     "text": [
      "Customer Service Line Summary\n",
      "Properties with lead pipes: 0\n",
      "Properties with galvanized pipes: 8630\n",
      "Properties with non-lead pipes: 160264\n",
      "Properties with galvanized pipes: 8630\n",
      "Properties with unknown service line material: 55605\n"
     ]
    }
   ],
   "source": [
    "# Summarize stats on lead vs non-lead customer service line material\n",
    "lead_counts_customer = df_match_combined_cleaned[\"Customer-Owned Portion Service Line Material Classification\"].eq('PB').sum()\n",
    "gal_counts_customer = df_match_combined_cleaned[\"Customer-Owned Portion Service Line Material Classification\"].eq('GAL').sum()\n",
    "nonlead_counts_customer = df_match_combined_cleaned[\"Customer-Owned Portion Service Line Material Classification\"].isin(['CU','OT','PL']).sum()\n",
    "unknown_counts_customer = df_match_combined_cleaned[\"Customer-Owned Portion Service Line Material Classification\"].eq('MU').sum()\n",
    "\n",
    "print(\"Customer Service Line Summary\")\n",
    "print(f\"Properties with lead pipes: {lead_counts_customer}\")\n",
    "print(f\"Properties with galvanized pipes: {gal_counts_customer}\")\n",
    "print(f\"Properties with non-lead pipes: {nonlead_counts_customer}\")\n",
    "print(f\"Properties with galvanized pipes: {gal_counts_customer}\")\n",
    "print(f\"Properties with unknown service line material: {unknown_counts_customer}\")\n",
    "\n",
    "# Note that since there are no properties listed as having lead pipes, we cannot create a model for the customer-owned service line material"
   ]
  },
  {
   "cell_type": "code",
   "execution_count": 11,
   "id": "bc7e682c",
   "metadata": {},
   "outputs": [
    {
     "name": "stdout",
     "output_type": "stream",
     "text": [
      "City Service Line Summary\n",
      "Properties with lead pipes: 17277\n",
      "Properties with galvanized pipes: 3418\n",
      "Properties with non-lead pipes: 180984\n",
      "Properties with galvanized pipes: 3418\n",
      "Properties with unknown service line material: 22820\n"
     ]
    }
   ],
   "source": [
    "# Summarize stats on lead vs non-lead city service line material\n",
    "lead_counts_city = df_match_combined_cleaned[\"System-Owned Portion Service Line Material Classification \"].eq('PB').sum()\n",
    "gal_counts_city = df_match_combined_cleaned[\"System-Owned Portion Service Line Material Classification \"].eq('GAL').sum()\n",
    "nonlead_counts_city = df_match_combined_cleaned[\"System-Owned Portion Service Line Material Classification \"].isin(['CU','OT','PL']).sum()\n",
    "unknown_counts_city = df_match_combined_cleaned[\"System-Owned Portion Service Line Material Classification \"].eq('MU').sum()\n",
    "\n",
    "p_lead = lead_counts_city/(lead_counts_city+nonlead_counts_city+gal_counts_city)\n",
    "\n",
    "print(\"City Service Line Summary\")\n",
    "print(f\"Properties with lead pipes: {lead_counts_city}\")\n",
    "print(f\"Properties with galvanized pipes: {gal_counts_city}\")\n",
    "print(f\"Properties with non-lead pipes: {nonlead_counts_city}\")\n",
    "print(f\"Properties with galvanized pipes: {gal_counts_city}\")\n",
    "print(f\"Properties with unknown service line material: {unknown_counts_city}\")"
   ]
  },
  {
   "cell_type": "markdown",
   "id": "33409630",
   "metadata": {},
   "source": [
    "### Remove all data not used for plotting or model building"
   ]
  },
  {
   "cell_type": "code",
   "execution_count": 12,
   "id": "45778f11",
   "metadata": {},
   "outputs": [
    {
     "name": "stderr",
     "output_type": "stream",
     "text": [
      "/var/folders/2l/qpy8_v3d5x7glst5y2hhkz6m0000gn/T/ipykernel_5054/2258283085.py:2: SettingWithCopyWarning: \n",
      "A value is trying to be set on a copy of a slice from a DataFrame.\n",
      "Try using .loc[row_indexer,col_indexer] = value instead\n",
      "\n",
      "See the caveats in the documentation: https://pandas.pydata.org/pandas-docs/stable/user_guide/indexing.html#returning-a-view-versus-a-copy\n",
      "  df_match_combined_cleaned[\"YEARBLT\"] = df_match_combined_cleaned[\"YEARBLT\"].clip(lower=1920)\n"
     ]
    }
   ],
   "source": [
    "# Clip all data before 1920. Years listed before this are not reliable, according to Franklin County Auditor's Website\n",
    "df_match_combined_cleaned[\"YEARBLT\"] = df_match_combined_cleaned[\"YEARBLT\"].clip(lower=1920) \n",
    "\n",
    "# Remove all rows with unknown service line material. These should not contribute to the model\n",
    "df_match_combined_cleaned = df_match_combined_cleaned[df_match_combined_cleaned[\"System-Owned Portion Service Line Material Classification \"] != \"MU\"]"
   ]
  },
  {
   "cell_type": "code",
   "execution_count": 13,
   "id": "62f61175",
   "metadata": {},
   "outputs": [],
   "source": [
    "# Remove columns that do not contribute to the model or spatial plotting\n",
    "columns_filtered_2 = ['PARCEL ID', 'YEARBLT',\n",
    "                        'Street Number', 'Street Name', 'City', 'Zip Code', 'County', 'Latitude', 'Longitude', \n",
    "                        'System-Owned Portion Service Line Material Classification ']\n",
    "\n",
    "df_match_combined_cleaned = df_match_combined_cleaned[columns_filtered_2]"
   ]
  },
  {
   "cell_type": "code",
   "execution_count": 14,
   "id": "9a7c67a1",
   "metadata": {},
   "outputs": [
    {
     "name": "stdout",
     "output_type": "stream",
     "text": [
      "<class 'pandas.core.frame.DataFrame'>\n",
      "Index: 201679 entries, 0 to 37074\n",
      "Data columns (total 10 columns):\n",
      " #   Column                                                      Non-Null Count   Dtype  \n",
      "---  ------                                                      --------------   -----  \n",
      " 0   PARCEL ID                                                   201679 non-null  object \n",
      " 1   YEARBLT                                                     201679 non-null  float64\n",
      " 2   Street Number                                               201679 non-null  object \n",
      " 3   Street Name                                                 201679 non-null  object \n",
      " 4   City                                                        201679 non-null  object \n",
      " 5   Zip Code                                                    201679 non-null  object \n",
      " 6   County                                                      201679 non-null  object \n",
      " 7   Latitude                                                    201679 non-null  float64\n",
      " 8   Longitude                                                   201679 non-null  float64\n",
      " 9   System-Owned Portion Service Line Material Classification   201679 non-null  object \n",
      "dtypes: float64(3), object(7)\n",
      "memory usage: 16.9+ MB\n"
     ]
    }
   ],
   "source": [
    "df_match_combined_cleaned.info()"
   ]
  },
  {
   "cell_type": "code",
   "execution_count": 15,
   "id": "7fbebc4b",
   "metadata": {},
   "outputs": [
    {
     "data": {
      "text/plain": [
       "System-Owned Portion Service Line Material Classification \n",
       "CU     76031\n",
       "PL     70652\n",
       "OT     34301\n",
       "PB     17277\n",
       "GAL     3418\n",
       "Name: count, dtype: int64"
      ]
     },
     "execution_count": 15,
     "metadata": {},
     "output_type": "execute_result"
    }
   ],
   "source": [
    "df_match_combined_cleaned[\"System-Owned Portion Service Line Material Classification \"].value_counts()"
   ]
  },
  {
   "cell_type": "markdown",
   "id": "7d9d5767",
   "metadata": {},
   "source": [
    "### Encode categorical data for binary classification"
   ]
  },
  {
   "cell_type": "code",
   "execution_count": 16,
   "id": "f88d52ae",
   "metadata": {},
   "outputs": [],
   "source": [
    "df_match_combined_cleaned[\"is_lead\"] = (df_match_combined_cleaned[\"System-Owned Portion Service Line Material Classification \"]==\"PB\").astype(int)\n",
    "\n",
    "# Use +/- 1 for lead/non-lead values. Makes nearest-neighbor analysis clearer\n",
    "df_match_combined_cleaned['is_lead_pm'] = df_match_combined_cleaned['is_lead'].replace(0,-1)\n",
    "\n",
    "## Additional code for predicting galvanized pipe presence\n",
    "#df_match_combined_cleaned[\"is_galv\"] = (df_match_combined_cleaned[\"System-Owned Portion Service Line Material Classification \"]==\"GAL\").astype(int)\n",
    "#df_match_combined_cleaned[\"needs_replaced\"] = df_match_combined_cleaned[\"is_lead\"] + df_match_combined_cleaned[\"is_galv\"]"
   ]
  },
  {
   "cell_type": "markdown",
   "id": "d0ad7499",
   "metadata": {},
   "source": [
    "#### Use k-nearest neighbors to encode nearest neighbor (nn) is_lead values and associated distances"
   ]
  },
  {
   "cell_type": "code",
   "execution_count": 17,
   "id": "4c767aa3",
   "metadata": {},
   "outputs": [],
   "source": [
    "# Convert degrees to radians\n",
    "coords_rad = np.radians(df_match_combined_cleaned[['Latitude', 'Longitude']].values)\n",
    "\n",
    "# Build BallTree with haversine metric\n",
    "tree = BallTree(coords_rad, metric='haversine')\n",
    "\n",
    "# Query for k=2 (skip the point itself)\n",
    "dists, indices = tree.query(coords_rad, k=2)\n",
    "\n",
    "# Multiply by Earth radius (in km)\n",
    "earth_radius_km = 6371.0\n",
    "nearest_dists_km = dists[:, 1] * earth_radius_km\n",
    "nearest_indices = indices[:, 1]\n",
    "nearest_is_lead = df_match_combined_cleaned.iloc[nearest_indices]['is_lead_pm'].values\n",
    "\n",
    "# Add to DataFrame\n",
    "df_match_combined_cleaned['nn_is_lead'] = nearest_is_lead\n",
    "df_match_combined_cleaned['nn_distance_km'] = nearest_dists_km\n",
    "\n",
    "# Create weighted nearest neighbor lead value\n",
    "epsilon = 1e-3  # to avoid division by zero. Corresponds to 1 meter \n",
    "df_match_combined_cleaned['nn_is_lead_weighted'] = df_match_combined_cleaned['nn_is_lead'] / (df_match_combined_cleaned['nn_distance_km'] + epsilon)"
   ]
  },
  {
   "cell_type": "code",
   "execution_count": 18,
   "id": "ff2f0372",
   "metadata": {},
   "outputs": [
    {
     "data": {
      "text/plain": [
       "count    201679.000000\n",
       "mean          0.019213\n",
       "std           0.014387\n",
       "min           0.000042\n",
       "25%           0.013535\n",
       "50%           0.017300\n",
       "75%           0.022167\n",
       "max           1.541509\n",
       "Name: nn_distance_km, dtype: float64"
      ]
     },
     "execution_count": 18,
     "metadata": {},
     "output_type": "execute_result"
    }
   ],
   "source": [
    "# Generate stats on nearest neighbor distance\n",
    "df_match_combined_cleaned['nn_distance_km'].describe()"
   ]
  },
  {
   "cell_type": "code",
   "execution_count": 19,
   "id": "9581dc44",
   "metadata": {},
   "outputs": [
    {
     "data": {
      "text/plain": [
       "array([[<Axes: title={'center': 'nn_distance_km'}>]], dtype=object)"
      ]
     },
     "execution_count": 19,
     "metadata": {},
     "output_type": "execute_result"
    },
    {
     "data": {
      "image/png": "[encoded data removed]",
      "text/plain": [
       "<Figure size 640x480 with 1 Axes>"
      ]
     },
     "metadata": {},
     "output_type": "display_data"
    }
   ],
   "source": [
    "# take a look at the nearest neighbor distance data\n",
    "df_match_combined_cleaned.hist(column='nn_distance_km', bins=51)"
   ]
  },
  {
   "cell_type": "code",
   "execution_count": 20,
   "id": "555fbdcd",
   "metadata": {},
   "outputs": [
    {
     "data": {
      "text/plain": [
       "count    201679.000000\n",
       "mean        -49.914263\n",
       "std          65.812601\n",
       "min        -959.424300\n",
       "25%         -64.282831\n",
       "50%         -51.696079\n",
       "75%         -38.603676\n",
       "max         351.127965\n",
       "Name: nn_is_lead_weighted, dtype: float64"
      ]
     },
     "execution_count": 20,
     "metadata": {},
     "output_type": "execute_result"
    }
   ],
   "source": [
    "# Describe weighted nn lead values\n",
    "df_match_combined_cleaned['nn_is_lead_weighted'].describe()"
   ]
  },
  {
   "cell_type": "code",
   "execution_count": 21,
   "id": "18e876f0",
   "metadata": {},
   "outputs": [
    {
     "data": {
      "text/plain": [
       "count    201679.000000\n",
       "mean         63.434596\n",
       "std          52.903464\n",
       "min           0.648294\n",
       "25%          43.164339\n",
       "50%          54.645790\n",
       "75%          68.801187\n",
       "max         959.424300\n",
       "Name: nn_is_lead_weighted, dtype: float64"
      ]
     },
     "execution_count": 21,
     "metadata": {},
     "output_type": "execute_result"
    }
   ],
   "source": [
    "# Describe absolute value of nn lead values\n",
    "abs(df_match_combined_cleaned['nn_is_lead_weighted']).describe()"
   ]
  },
  {
   "cell_type": "code",
   "execution_count": 22,
   "id": "e10244e2",
   "metadata": {},
   "outputs": [
    {
     "data": {
      "text/plain": [
       "array([[<Axes: title={'center': 'nn_is_lead_weighted'}>]], dtype=object)"
      ]
     },
     "execution_count": 22,
     "metadata": {},
     "output_type": "execute_result"
    },
    {
     "data": {
      "image/png": "[encoded data removed]",
      "text/plain": [
       "<Figure size 640x480 with 1 Axes>"
      ]
     },
     "metadata": {},
     "output_type": "display_data"
    }
   ],
   "source": [
    "df_match_combined_cleaned.hist(column='nn_is_lead_weighted', bins=51)"
   ]
  },
  {
   "cell_type": "code",
   "execution_count": 23,
   "id": "38001f0c",
   "metadata": {},
   "outputs": [],
   "source": [
    "# Save cleaned dataframe as csv.\n",
    "df_match_combined_cleaned.to_csv('df_cleaned.csv')"
   ]
  },
  {
   "cell_type": "code",
   "execution_count": null,
   "id": "95649275",
   "metadata": {},
   "outputs": [],
   "source": []
  }
 ],
 "metadata": {
  "kernelspec": {
   "display_name": "erdos_summer_2025",
   "language": "python",
   "name": "python3"
  },
  "language_info": {
   "codemirror_mode": {
    "name": "ipython",
    "version": 3
   },
   "file_extension": ".py",
   "mimetype": "text/x-python",
   "name": "python",
   "nbconvert_exporter": "python",
   "pygments_lexer": "ipython3",
   "version": "3.12.10"
  }
 },
 "nbformat": 4,
 "nbformat_minor": 5
}
