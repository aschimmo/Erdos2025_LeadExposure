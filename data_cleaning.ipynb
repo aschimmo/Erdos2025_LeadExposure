{
 "cells": [
  {
   "cell_type": "markdown",
   "id": "8f915ba8",
   "metadata": {},
   "source": [
    "# Data Cleaning for Lead Exposure Project"
   ]
  },
  {
   "cell_type": "code",
   "execution_count": 3,
   "id": "7f33906f",
   "metadata": {},
   "outputs": [],
   "source": [
    "# Packages to import\n",
    "import pandas as pd\n",
    "import numpy as np\n",
    "import matplotlib.pyplot as plt\n",
    "from rapidfuzz import process,fuzz\n",
    "from sklearn.neighbors import BallTree"
   ]
  },
  {
   "cell_type": "markdown",
   "id": "ca1b6935",
   "metadata": {},
   "source": [
    "### Combine Service Line Inventory and Franklin County Parcel Data"
   ]
  },
  {
   "cell_type": "code",
   "execution_count": 4,
   "id": "6fb323e3",
   "metadata": {},
   "outputs": [
    {
     "name": "stderr",
     "output_type": "stream",
     "text": [
      "/var/folders/2l/qpy8_v3d5x7glst5y2hhkz6m0000gn/T/ipykernel_13184/1256978046.py:5: DtypeWarning: Columns (12,13,14,15,31,33,54,59,64,65) have mixed types. Specify dtype option on import or set low_memory=False.\n",
      "  df_parcel = pd.read_csv(url_parcel)\n"
     ]
    }
   ],
   "source": [
    "# Import data files\n",
    "\n",
    "# Documentation for the parcel data set is located at https://www.franklincountyauditor.com/AUDR-website/media/Documents/FTP/Parcel-CSV-description-of-fields.pdf\n",
    "url_parcel = \"https://apps.franklincountyauditor.com/Parcel_CSV/2025/05/Parcel.csv\"\n",
    "df_parcel = pd.read_csv(url_parcel)\n",
    "\n",
    "# Service Line inventory data set\n",
    "name_sl = \"ServiceLineInventory.csv\"\n",
    "df_sl = pd.read_csv(name_sl)"
   ]
  },
  {
   "cell_type": "code",
   "execution_count": 5,
   "id": "79aca5c1",
   "metadata": {},
   "outputs": [],
   "source": [
    "# Create common Street Address column for both data sets\n",
    "df_sl[\"Street Address\"] = df_sl[\"Street Number\"].astype(str) + ' ' + df_sl[\"Street Name\"]\n",
    "\n",
    "# Delete duplicate rows in each data set\n",
    "df_parcel = df_parcel.drop_duplicates(subset=[\"STADDR\"])\n",
    "df_sl = df_sl.drop_duplicates(subset=[\"Street Address\"])"
   ]
  },
  {
   "cell_type": "code",
   "execution_count": 6,
   "id": "158f7918",
   "metadata": {},
   "outputs": [],
   "source": [
    "# Find matching addresses in both data sets\n",
    "\n",
    "common_values = set(df_sl['Street Address']) & set(df_parcel['STADDR'])\n",
    "num_matches = len(common_values)\n",
    "num_sl = len(df_sl)\n",
    "num_parcel = len(df_parcel)\n",
    "\n",
    "percent_match = num_matches/num_sl*100\n",
    "percent_nomatch = 100-percent_match\n",
    "\n",
    "# Data frame with exact matches for addresses\n",
    "df_match_exact = pd.merge(df_sl, df_parcel, left_on=\"Street Address\", right_on=\"STADDR\", how=\"inner\")"
   ]
  },
  {
   "cell_type": "code",
   "execution_count": 7,
   "id": "287b21b7",
   "metadata": {},
   "outputs": [
    {
     "data": {
      "text/plain": [
       "'\\ndf_non_matches[[\"Best Match\", \"Match Score\"]] = df_non_matches[\"Street Address\"].apply(lambda addr: get_best_match(addr, df_parcel[\\'STADDR\\']))\\ndf_match_near = pd.merge(df_non_matches,df_parcel, left_on=\"Best Match\", right_on=\"STADDR\", how=\"inner\")\\ndf_match_near = df_match_near.dropna(subset=[\\'Best Match\\'])\\n\\ndf_match_near.to_csv(\\'data_match_near.csv\\')\\n'"
      ]
     },
     "execution_count": 7,
     "metadata": {},
     "output_type": "execute_result"
    }
   ],
   "source": [
    "# Pull out all rows from Service Line Inventory without exact address matches\n",
    "df_non_matches = df_sl[~df_sl[\"Street Address\"].isin(df_parcel[\"STADDR\"])]\n",
    "\n",
    "# Consider a small sample of these rows\n",
    "df_non_matches_sample = df_non_matches.sample(n=50)\n",
    "\n",
    "def get_best_match(addr, choices, scorer=fuzz.token_sort_ratio):\n",
    "    '''\n",
    "    Use fuzzy logic package to match addresses. \n",
    "    addr: target address\n",
    "    choices: range of possible addresses to match\n",
    "    scorer: scoring method for fuzzy logic algorithm\n",
    "    returns Pandas series containing the matched address and corresponding score\n",
    "    '''\n",
    "\n",
    "    results = process.extract(addr, choices, scorer=scorer,limit=5, score_cutoff=80)\n",
    "\n",
    "    # If there are no results, return None\n",
    "    if not results:\n",
    "        return pd.Series([None, None])\n",
    "    \n",
    "\n",
    "     # See if address numbers are identical for any of the potential matches\n",
    "    address_no = addr.split()[0]\n",
    "    \n",
    "    for match, score, _ in results:\n",
    "        match_no = match.split()[0]\n",
    "        if match_no == address_no:\n",
    "            return pd.Series([match, score])\n",
    "    \n",
    "    # If no house number matches, return None\n",
    "    return pd.Series([None, None])\n",
    "\n",
    "        \n",
    "## Get matches for sample dataset\n",
    "\"\"\"\n",
    "# Consider a small sample of these rows\n",
    "df_non_matches_sample = df_non_matches.sample(n=50)\n",
    "\n",
    "df_non_matches_sample[[\"Best Match\", \"Match Score\"]] = df_non_matches_sample[\"Street Address\"].apply(lambda addr: get_best_match(addr, df_parcel['STADDR']))\n",
    "df_match_near = pd.merge(df_non_matches_sample, df_parcel, left_on=\"Best Match\", right_on=\"STADDR\", how=\"inner\")\n",
    "df_match_near = df_match_near.dropna(subset=['Best Match'])\n",
    "\"\"\"\n",
    "\n",
    "## Get matches for entire dataset. Uncomment to run code\n",
    "\"\"\"\n",
    "df_non_matches[[\"Best Match\", \"Match Score\"]] = df_non_matches[\"Street Address\"].apply(lambda addr: get_best_match(addr, df_parcel['STADDR']))\n",
    "df_match_near = pd.merge(df_non_matches,df_parcel, left_on=\"Best Match\", right_on=\"STADDR\", how=\"inner\")\n",
    "df_match_near = df_match_near.dropna(subset=['Best Match'])\n",
    "\n",
    "df_match_near.to_csv('data_match_near.csv')\n",
    "\"\"\""
   ]
  },
  {
   "cell_type": "code",
   "execution_count": 8,
   "id": "b79299b4",
   "metadata": {},
   "outputs": [
    {
     "name": "stderr",
     "output_type": "stream",
     "text": [
      "/var/folders/2l/qpy8_v3d5x7glst5y2hhkz6m0000gn/T/ipykernel_13184/2169384260.py:2: DtypeWarning: Columns (1) have mixed types. Specify dtype option on import or set low_memory=False.\n",
      "  df_match_near = pd.read_csv('data_match_near.csv')\n"
     ]
    }
   ],
   "source": [
    "# Load near matches data\n",
    "df_match_near = pd.read_csv('data_match_near.csv')\n",
    "\n",
    "# Clean up the two dataframes so they can be combined\n",
    "df_match_exact[\"Match Score\"] = 100\n",
    "\n",
    "columns_filtered = ['PARCEL ID', 'YEARBLT', 'APPRTOT', 'PRICE', 'GRADE',\n",
    "                    'Street Number', 'Street Name', 'City', 'Zip Code', 'County', 'Latitude', 'Longitude', \n",
    "                    'System-Owned Portion Service Line Material Classification ',\n",
    "                    'If Non-Lead in Column R.. Was Material Ever Previously Lead?',\n",
    "                    'Customer-Owned Portion Service Line Material Classification']\n",
    "\n",
    "df_match_exact_filtered = df_match_exact[columns_filtered]\n",
    "df_match_near_filtered = df_match_near[columns_filtered]\n",
    "\n",
    "# Dataframe with data for matched addresses in parcel and service line inventory\n",
    "df_match_combined_filtered = pd.concat([df_match_exact_filtered,df_match_near_filtered])\n"
   ]
  },
  {
   "cell_type": "code",
   "execution_count": 9,
   "id": "e74de1c6",
   "metadata": {},
   "outputs": [
    {
     "data": {
      "text/plain": [
       "PARCEL ID                                                           0\n",
       "YEARBLT                                                         13046\n",
       "APPRTOT                                                             0\n",
       "PRICE                                                             327\n",
       "GRADE                                                           13052\n",
       "Street Number                                                       0\n",
       "Street Name                                                         0\n",
       "City                                                                0\n",
       "Zip Code                                                            0\n",
       "County                                                              0\n",
       "Latitude                                                            0\n",
       "Longitude                                                           0\n",
       "System-Owned Portion Service Line Material Classification           0\n",
       "If Non-Lead in Column R.. Was Material Ever Previously Lead?        0\n",
       "Customer-Owned Portion Service Line Material Classification         0\n",
       "dtype: int64"
      ]
     },
     "execution_count": 9,
     "metadata": {},
     "output_type": "execute_result"
    }
   ],
   "source": [
    "# Check for null entries\n",
    "df_match_combined_filtered.isnull().sum()"
   ]
  },
  {
   "cell_type": "code",
   "execution_count": 10,
   "id": "dc208168",
   "metadata": {},
   "outputs": [
    {
     "name": "stdout",
     "output_type": "stream",
     "text": [
      "<class 'pandas.core.frame.DataFrame'>\n",
      "Index: 224190 entries, 0 to 37074\n",
      "Data columns (total 15 columns):\n",
      " #   Column                                                        Non-Null Count   Dtype  \n",
      "---  ------                                                        --------------   -----  \n",
      " 0   PARCEL ID                                                     224190 non-null  object \n",
      " 1   YEARBLT                                                       224190 non-null  float64\n",
      " 2   APPRTOT                                                       224190 non-null  float64\n",
      " 3   PRICE                                                         224190 non-null  float64\n",
      " 4   GRADE                                                         224190 non-null  object \n",
      " 5   Street Number                                                 224190 non-null  object \n",
      " 6   Street Name                                                   224190 non-null  object \n",
      " 7   City                                                          224190 non-null  object \n",
      " 8   Zip Code                                                      224190 non-null  object \n",
      " 9   County                                                        224190 non-null  object \n",
      " 10  Latitude                                                      224190 non-null  float64\n",
      " 11  Longitude                                                     224190 non-null  float64\n",
      " 12  System-Owned Portion Service Line Material Classification     224190 non-null  object \n",
      " 13  If Non-Lead in Column R.. Was Material Ever Previously Lead?  224190 non-null  object \n",
      " 14  Customer-Owned Portion Service Line Material Classification   224190 non-null  object \n",
      "dtypes: float64(5), object(10)\n",
      "memory usage: 27.4+ MB\n"
     ]
    }
   ],
   "source": [
    "# Drop rows with null entries\n",
    "df_match_combined_cleaned = df_match_combined_filtered.dropna()\n",
    "df_match_combined_cleaned.info()"
   ]
  },
  {
   "cell_type": "code",
   "execution_count": 11,
   "id": "b5309514",
   "metadata": {},
   "outputs": [
    {
     "name": "stdout",
     "output_type": "stream",
     "text": [
      "Number of unique properties in parcel registry: 424706\n",
      "Number of unique properties listed in service line inventory: 283876\n",
      "Number of exactly matching addresses: 200470 (70.6%)\n",
      "Number of nearly matching addresses: 37075 (13.1%)\n",
      "Number of non-matching addresses: 83406 (16.3%) \n",
      "\n",
      "Total number of properties with matching addresses and non-null entries:\n",
      "224190 (79.0%)\n"
     ]
    }
   ],
   "source": [
    "# Summarize address matching \n",
    "common_values = set(df_sl['Street Address']) & set(df_parcel['STADDR'])\n",
    "num_matches = len(common_values)\n",
    "num_sl = len(df_sl)\n",
    "num_parcel = len(df_parcel)\n",
    "\n",
    "num_near_matches = len(df_match_near)\n",
    "\n",
    "percent_match = num_matches/num_sl*100\n",
    "percent_near_match = num_near_matches/num_sl*100\n",
    "percent_nomatch = 100-percent_match - percent_near_match\n",
    "\n",
    "num_rows_final = len(df_match_combined_cleaned)\n",
    "percent_final = num_rows_final/num_sl*100\n",
    "\n",
    "print(f\"Number of unique properties in parcel registry: {num_parcel}\")\n",
    "print(f\"Number of unique properties listed in service line inventory: {num_sl}\")\n",
    "print(f\"Number of exactly matching addresses: {num_matches} ({percent_match:0.1f}%)\")\n",
    "print(f\"Number of nearly matching addresses: {num_near_matches} ({percent_near_match:0.1f}%)\")\n",
    "print(f\"Number of non-matching addresses: {num_sl-num_matches} ({percent_nomatch:0.1f}%) \\n\")\n",
    "\n",
    "print(f\"Total number of properties with matching addresses and non-null entries:\")\n",
    "print(f\"{num_rows_final} ({percent_final:0.1f}%)\")      \n",
    "\n"
   ]
  },
  {
   "cell_type": "code",
   "execution_count": 12,
   "id": "25a91d49",
   "metadata": {},
   "outputs": [
    {
     "name": "stdout",
     "output_type": "stream",
     "text": [
      "Customer Service Line Summary\n",
      "Properties with lead pipes: 0\n",
      "Properties with galvanized pipes: 8601\n",
      "Properties with non-lead pipes: 160137\n",
      "Properties with galvanized pipes: 8601\n",
      "Properties with unknown service line material: 55452\n"
     ]
    }
   ],
   "source": [
    "# Summarize stats on lead vs non-lead customer service line material\n",
    "lead_counts_customer = df_match_combined_cleaned[\"Customer-Owned Portion Service Line Material Classification\"].eq('PB').sum()\n",
    "gal_counts_customer = df_match_combined_cleaned[\"Customer-Owned Portion Service Line Material Classification\"].eq('GAL').sum()\n",
    "nonlead_counts_customer = df_match_combined_cleaned[\"Customer-Owned Portion Service Line Material Classification\"].isin(['CU','OT','PL']).sum()\n",
    "unknown_counts_customer = df_match_combined_cleaned[\"Customer-Owned Portion Service Line Material Classification\"].eq('MU').sum()\n",
    "\n",
    "print(\"Customer Service Line Summary\")\n",
    "print(f\"Properties with lead pipes: {lead_counts_customer}\")\n",
    "print(f\"Properties with galvanized pipes: {gal_counts_customer}\")\n",
    "print(f\"Properties with non-lead pipes: {nonlead_counts_customer}\")\n",
    "print(f\"Properties with galvanized pipes: {gal_counts_customer}\")\n",
    "print(f\"Properties with unknown service line material: {unknown_counts_customer}\")\n",
    "\n",
    "# Note that since there are no properties listed as having lead pipes, we cannot create a model for the customer-owned service line material"
   ]
  },
  {
   "cell_type": "code",
   "execution_count": 13,
   "id": "bc7e682c",
   "metadata": {},
   "outputs": [
    {
     "name": "stdout",
     "output_type": "stream",
     "text": [
      "City Service Line Summary\n",
      "Properties with lead pipes: 17236\n",
      "Properties with galvanized pipes: 3384\n",
      "Properties with non-lead pipes: 180760\n",
      "Properties with galvanized pipes: 3384\n",
      "Properties with unknown service line material: 22810\n"
     ]
    }
   ],
   "source": [
    "# Summarize stats on lead vs non-lead city service line material\n",
    "lead_counts_city = df_match_combined_cleaned[\"System-Owned Portion Service Line Material Classification \"].eq('PB').sum()\n",
    "gal_counts_city = df_match_combined_cleaned[\"System-Owned Portion Service Line Material Classification \"].eq('GAL').sum()\n",
    "nonlead_counts_city = df_match_combined_cleaned[\"System-Owned Portion Service Line Material Classification \"].isin(['CU','OT','PL']).sum()\n",
    "unknown_counts_city = df_match_combined_cleaned[\"System-Owned Portion Service Line Material Classification \"].eq('MU').sum()\n",
    "\n",
    "p_lead = lead_counts_city/(lead_counts_city+nonlead_counts_city+gal_counts_city)\n",
    "\n",
    "print(\"City Service Line Summary\")\n",
    "print(f\"Properties with lead pipes: {lead_counts_city}\")\n",
    "print(f\"Properties with galvanized pipes: {gal_counts_city}\")\n",
    "print(f\"Properties with non-lead pipes: {nonlead_counts_city}\")\n",
    "print(f\"Properties with galvanized pipes: {gal_counts_city}\")\n",
    "print(f\"Properties with unknown service line material: {unknown_counts_city}\")"
   ]
  },
  {
   "cell_type": "markdown",
   "id": "33409630",
   "metadata": {},
   "source": [
    "### Remove all data not used for plotting or model building"
   ]
  },
  {
   "cell_type": "code",
   "execution_count": 14,
   "id": "45778f11",
   "metadata": {},
   "outputs": [
    {
     "name": "stderr",
     "output_type": "stream",
     "text": [
      "/var/folders/2l/qpy8_v3d5x7glst5y2hhkz6m0000gn/T/ipykernel_13184/2258283085.py:2: SettingWithCopyWarning: \n",
      "A value is trying to be set on a copy of a slice from a DataFrame.\n",
      "Try using .loc[row_indexer,col_indexer] = value instead\n",
      "\n",
      "See the caveats in the documentation: https://pandas.pydata.org/pandas-docs/stable/user_guide/indexing.html#returning-a-view-versus-a-copy\n",
      "  df_match_combined_cleaned[\"YEARBLT\"] = df_match_combined_cleaned[\"YEARBLT\"].clip(lower=1920)\n"
     ]
    }
   ],
   "source": [
    "# Clip all data before 1920. Years listed before this are not reliable, according to Franklin County Auditor's Website\n",
    "df_match_combined_cleaned[\"YEARBLT\"] = df_match_combined_cleaned[\"YEARBLT\"].clip(lower=1920) \n",
    "\n",
    "# Remove all rows with unknown service line material. These should not contribute to the model\n",
    "df_match_combined_cleaned = df_match_combined_cleaned[df_match_combined_cleaned[\"System-Owned Portion Service Line Material Classification \"] != \"MU\"]"
   ]
  },
  {
   "cell_type": "code",
   "execution_count": 15,
   "id": "62f61175",
   "metadata": {},
   "outputs": [],
   "source": [
    "# Remove columns that do not contribute to the model or spatial plotting\n",
    "columns_filtered_2 = ['PARCEL ID', 'YEARBLT',\n",
    "                        'Street Number', 'Street Name', 'City', 'Zip Code', 'County', 'Latitude', 'Longitude', \n",
    "                        'System-Owned Portion Service Line Material Classification ']\n",
    "\n",
    "df_match_combined_cleaned = df_match_combined_cleaned[columns_filtered_2]"
   ]
  },
  {
   "cell_type": "code",
   "execution_count": 16,
   "id": "9a7c67a1",
   "metadata": {},
   "outputs": [
    {
     "name": "stdout",
     "output_type": "stream",
     "text": [
      "<class 'pandas.core.frame.DataFrame'>\n",
      "Index: 201380 entries, 0 to 37074\n",
      "Data columns (total 10 columns):\n",
      " #   Column                                                      Non-Null Count   Dtype  \n",
      "---  ------                                                      --------------   -----  \n",
      " 0   PARCEL ID                                                   201380 non-null  object \n",
      " 1   YEARBLT                                                     201380 non-null  float64\n",
      " 2   Street Number                                               201380 non-null  object \n",
      " 3   Street Name                                                 201380 non-null  object \n",
      " 4   City                                                        201380 non-null  object \n",
      " 5   Zip Code                                                    201380 non-null  object \n",
      " 6   County                                                      201380 non-null  object \n",
      " 7   Latitude                                                    201380 non-null  float64\n",
      " 8   Longitude                                                   201380 non-null  float64\n",
      " 9   System-Owned Portion Service Line Material Classification   201380 non-null  object \n",
      "dtypes: float64(3), object(7)\n",
      "memory usage: 16.9+ MB\n"
     ]
    }
   ],
   "source": [
    "df_match_combined_cleaned.info()"
   ]
  },
  {
   "cell_type": "code",
   "execution_count": 17,
   "id": "7fbebc4b",
   "metadata": {},
   "outputs": [
    {
     "data": {
      "text/plain": [
       "System-Owned Portion Service Line Material Classification \n",
       "CU     75841\n",
       "PL     70624\n",
       "OT     34295\n",
       "PB     17236\n",
       "GAL     3384\n",
       "Name: count, dtype: int64"
      ]
     },
     "execution_count": 17,
     "metadata": {},
     "output_type": "execute_result"
    }
   ],
   "source": [
    "df_match_combined_cleaned[\"System-Owned Portion Service Line Material Classification \"].value_counts()"
   ]
  },
  {
   "cell_type": "markdown",
   "id": "7d9d5767",
   "metadata": {},
   "source": [
    "### Encode categorical data for binary classification"
   ]
  },
  {
   "cell_type": "code",
   "execution_count": 18,
   "id": "f88d52ae",
   "metadata": {},
   "outputs": [],
   "source": [
    "df_match_combined_cleaned[\"is_lead\"] = (df_match_combined_cleaned[\"System-Owned Portion Service Line Material Classification \"]==\"PB\").astype(int)\n",
    "\n",
    "# Use +/- 1 for lead/non-lead values. Makes nearest-neighbor analysis clearer\n",
    "df_match_combined_cleaned['is_lead_pm'] = df_match_combined_cleaned['is_lead'].replace(0,-1)\n",
    "\n",
    "## Additional code for predicting galvanized pipe presence\n",
    "#df_match_combined_cleaned[\"is_galv\"] = (df_match_combined_cleaned[\"System-Owned Portion Service Line Material Classification \"]==\"GAL\").astype(int)\n",
    "#df_match_combined_cleaned[\"needs_replaced\"] = df_match_combined_cleaned[\"is_lead\"] + df_match_combined_cleaned[\"is_galv\"]"
   ]
  },
  {
   "cell_type": "markdown",
   "id": "d0ad7499",
   "metadata": {},
   "source": [
    "#### Use k-nearest neighbors to encode nearest neighbor (nn) is_lead values and associated distances"
   ]
  },
  {
   "cell_type": "code",
   "execution_count": 19,
   "id": "4c767aa3",
   "metadata": {},
   "outputs": [],
   "source": [
    "# Convert degrees to radians\n",
    "coords_rad = np.radians(df_match_combined_cleaned[['Latitude', 'Longitude']].values)\n",
    "\n",
    "# Build BallTree with haversine metric\n",
    "tree = BallTree(coords_rad, metric='haversine')\n",
    "\n",
    "# Query for k=2 (skip the point itself)\n",
    "dists, indices = tree.query(coords_rad, k=2)\n",
    "\n",
    "# Multiply by Earth radius (in km)\n",
    "earth_radius_km = 6371.0\n",
    "nearest_dists_km = dists[:, 1] * earth_radius_km\n",
    "nearest_indices = indices[:, 1]\n",
    "nearest_is_lead = df_match_combined_cleaned.iloc[nearest_indices]['is_lead_pm'].values\n",
    "\n",
    "# Add to DataFrame\n",
    "df_match_combined_cleaned['nn_is_lead'] = nearest_is_lead\n",
    "df_match_combined_cleaned['nn_distance_km'] = nearest_dists_km\n",
    "\n",
    "# Create weighted nearest neighbor lead value\n",
    "epsilon = 1e-3  # to avoid division by zero. Corresponds to 1 meter \n",
    "df_match_combined_cleaned['nn_is_lead_weighted'] = df_match_combined_cleaned['nn_is_lead'] / (df_match_combined_cleaned['nn_distance_km'] + epsilon)"
   ]
  },
  {
   "cell_type": "code",
   "execution_count": 20,
   "id": "ff2f0372",
   "metadata": {},
   "outputs": [
    {
     "data": {
      "text/plain": [
       "count    201380.000000\n",
       "mean          0.019220\n",
       "std           0.014410\n",
       "min           0.000042\n",
       "25%           0.013540\n",
       "50%           0.017303\n",
       "75%           0.022172\n",
       "max           1.541509\n",
       "Name: nn_distance_km, dtype: float64"
      ]
     },
     "execution_count": 20,
     "metadata": {},
     "output_type": "execute_result"
    }
   ],
   "source": [
    "# Generate stats on nearest neighbor distance\n",
    "df_match_combined_cleaned['nn_distance_km'].describe()"
   ]
  },
  {
   "cell_type": "code",
   "execution_count": 21,
   "id": "9581dc44",
   "metadata": {},
   "outputs": [
    {
     "data": {
      "text/plain": [
       "array([[<Axes: title={'center': 'nn_distance_km'}>]], dtype=object)"
      ]
     },
     "execution_count": 21,
     "metadata": {},
     "output_type": "execute_result"
    },
    {
     "data": {
      "image/png": "[encoded data removed]",
      "text/plain": [
       "<Figure size 640x480 with 1 Axes>"
      ]
     },
     "metadata": {},
     "output_type": "display_data"
    }
   ],
   "source": [
    "# take a look at the nearest neighbor distance data\n",
    "df_match_combined_cleaned.hist(column='nn_distance_km', bins=51)"
   ]
  },
  {
   "cell_type": "code",
   "execution_count": 22,
   "id": "555fbdcd",
   "metadata": {},
   "outputs": [
    {
     "data": {
      "text/plain": [
       "count    201380.000000\n",
       "mean        -49.912496\n",
       "std          65.822408\n",
       "min        -959.424300\n",
       "25%         -64.268808\n",
       "50%         -51.690466\n",
       "75%         -38.599163\n",
       "max         351.127965\n",
       "Name: nn_is_lead_weighted, dtype: float64"
      ]
     },
     "execution_count": 22,
     "metadata": {},
     "output_type": "execute_result"
    }
   ],
   "source": [
    "# Describe weighted nn lead values\n",
    "df_match_combined_cleaned['nn_is_lead_weighted'].describe()"
   ]
  },
  {
   "cell_type": "code",
   "execution_count": 23,
   "id": "18e876f0",
   "metadata": {},
   "outputs": [
    {
     "data": {
      "text/plain": [
       "count    201380.000000\n",
       "mean         63.426431\n",
       "std          52.923784\n",
       "min           0.648294\n",
       "25%          43.155455\n",
       "50%          54.636843\n",
       "75%          68.778003\n",
       "max         959.424300\n",
       "Name: nn_is_lead_weighted, dtype: float64"
      ]
     },
     "execution_count": 23,
     "metadata": {},
     "output_type": "execute_result"
    }
   ],
   "source": [
    "# Describe absolute value of nn lead values\n",
    "abs(df_match_combined_cleaned['nn_is_lead_weighted']).describe()"
   ]
  },
  {
   "cell_type": "code",
   "execution_count": 24,
   "id": "e10244e2",
   "metadata": {},
   "outputs": [
    {
     "data": {
      "text/plain": [
       "array([[<Axes: title={'center': 'nn_is_lead_weighted'}>]], dtype=object)"
      ]
     },
     "execution_count": 24,
     "metadata": {},
     "output_type": "execute_result"
    },
    {
     "data": {
      "image/png": "[encoded data removed]",
      "text/plain": [
       "<Figure size 640x480 with 1 Axes>"
      ]
     },
     "metadata": {},
     "output_type": "display_data"
    }
   ],
   "source": [
    "df_match_combined_cleaned.hist(column='nn_is_lead_weighted', bins=51)"
   ]
  },
  {
   "cell_type": "code",
   "execution_count": 25,
   "id": "38001f0c",
   "metadata": {},
   "outputs": [],
   "source": [
    "# Save cleaned dataframe as csv.\n",
    "df_match_combined_cleaned.to_csv('df_cleaned.csv')"
   ]
  },
  {
   "cell_type": "code",
   "execution_count": 26,
   "id": "95649275",
   "metadata": {},
   "outputs": [
    {
     "data": {
      "text/html": [
       "<div>\n",
       "<style scoped>\n",
       "    .dataframe tbody tr th:only-of-type {\n",
       "        vertical-align: middle;\n",
       "    }\n",
       "\n",
       "    .dataframe tbody tr th {\n",
       "        vertical-align: top;\n",
       "    }\n",
       "\n",
       "    .dataframe thead th {\n",
       "        text-align: right;\n",
       "    }\n",
       "</style>\n",
       "<table border=\"1\" class=\"dataframe\">\n",
       "  <thead>\n",
       "    <tr style=\"text-align: right;\">\n",
       "      <th></th>\n",
       "      <th>PARCEL ID</th>\n",
       "      <th>YEARBLT</th>\n",
       "      <th>Street Number</th>\n",
       "      <th>Street Name</th>\n",
       "      <th>City</th>\n",
       "      <th>Zip Code</th>\n",
       "      <th>County</th>\n",
       "      <th>Latitude</th>\n",
       "      <th>Longitude</th>\n",
       "      <th>System-Owned Portion Service Line Material Classification</th>\n",
       "      <th>is_lead</th>\n",
       "      <th>is_lead_pm</th>\n",
       "      <th>nn_is_lead</th>\n",
       "      <th>nn_distance_km</th>\n",
       "      <th>nn_is_lead_weighted</th>\n",
       "    </tr>\n",
       "  </thead>\n",
       "  <tbody>\n",
       "    <tr>\n",
       "      <th>8257</th>\n",
       "      <td>010-160865</td>\n",
       "      <td>1974.0</td>\n",
       "      <td>2149</td>\n",
       "      <td>CORNELL ST</td>\n",
       "      <td>COLUMBUS</td>\n",
       "      <td>43219-3518</td>\n",
       "      <td>FRANKLIN</td>\n",
       "      <td>40.015258</td>\n",
       "      <td>-82.928456</td>\n",
       "      <td>OT</td>\n",
       "      <td>0</td>\n",
       "      <td>-1</td>\n",
       "      <td>-1</td>\n",
       "      <td>0.020539</td>\n",
       "      <td>-46.427596</td>\n",
       "    </tr>\n",
       "    <tr>\n",
       "      <th>160139</th>\n",
       "      <td>010-300489</td>\n",
       "      <td>2022.0</td>\n",
       "      <td>4219</td>\n",
       "      <td>SALT SPRING LN</td>\n",
       "      <td>COLUMBUS</td>\n",
       "      <td>43207</td>\n",
       "      <td>FRANKLIN</td>\n",
       "      <td>39.876504</td>\n",
       "      <td>-82.981888</td>\n",
       "      <td>CU</td>\n",
       "      <td>0</td>\n",
       "      <td>-1</td>\n",
       "      <td>-1</td>\n",
       "      <td>0.013182</td>\n",
       "      <td>-70.512766</td>\n",
       "    </tr>\n",
       "    <tr>\n",
       "      <th>137031</th>\n",
       "      <td>273-003329</td>\n",
       "      <td>1987.0</td>\n",
       "      <td>5565</td>\n",
       "      <td>PARKER HILL LN</td>\n",
       "      <td>DUBLIN</td>\n",
       "      <td>43017-3061</td>\n",
       "      <td>FRANKLIN</td>\n",
       "      <td>40.116246</td>\n",
       "      <td>-83.142205</td>\n",
       "      <td>PL</td>\n",
       "      <td>0</td>\n",
       "      <td>-1</td>\n",
       "      <td>-1</td>\n",
       "      <td>0.020206</td>\n",
       "      <td>-47.156547</td>\n",
       "    </tr>\n",
       "    <tr>\n",
       "      <th>79420</th>\n",
       "      <td>600-300689</td>\n",
       "      <td>2021.0</td>\n",
       "      <td>5653</td>\n",
       "      <td>GODETIA ST</td>\n",
       "      <td>WESTERVILLE</td>\n",
       "      <td>43081</td>\n",
       "      <td>FRANKLIN</td>\n",
       "      <td>40.095913</td>\n",
       "      <td>-82.865836</td>\n",
       "      <td>CU</td>\n",
       "      <td>0</td>\n",
       "      <td>-1</td>\n",
       "      <td>-1</td>\n",
       "      <td>0.014822</td>\n",
       "      <td>-63.203886</td>\n",
       "    </tr>\n",
       "    <tr>\n",
       "      <th>24707</th>\n",
       "      <td>050-008832</td>\n",
       "      <td>2002.0</td>\n",
       "      <td>2975</td>\n",
       "      <td>BOHLEN DR</td>\n",
       "      <td>HILLIARD</td>\n",
       "      <td>43026-8578</td>\n",
       "      <td>FRANKLIN</td>\n",
       "      <td>40.012172</td>\n",
       "      <td>-83.161470</td>\n",
       "      <td>PL</td>\n",
       "      <td>0</td>\n",
       "      <td>-1</td>\n",
       "      <td>-1</td>\n",
       "      <td>0.021875</td>\n",
       "      <td>-43.716660</td>\n",
       "    </tr>\n",
       "    <tr>\n",
       "      <th>158780</th>\n",
       "      <td>010-032208</td>\n",
       "      <td>1920.0</td>\n",
       "      <td>424</td>\n",
       "      <td>S WARREN AVE</td>\n",
       "      <td>COLUMBUS</td>\n",
       "      <td>43204-3060</td>\n",
       "      <td>FRANKLIN</td>\n",
       "      <td>39.946272</td>\n",
       "      <td>-83.070877</td>\n",
       "      <td>PB</td>\n",
       "      <td>1</td>\n",
       "      <td>1</td>\n",
       "      <td>1</td>\n",
       "      <td>0.007144</td>\n",
       "      <td>122.783297</td>\n",
       "    </tr>\n",
       "    <tr>\n",
       "      <th>104968</th>\n",
       "      <td>040-004216</td>\n",
       "      <td>1972.0</td>\n",
       "      <td>2444</td>\n",
       "      <td>LARK AVE</td>\n",
       "      <td>GROVE CITY</td>\n",
       "      <td>43123-1817</td>\n",
       "      <td>FRANKLIN</td>\n",
       "      <td>39.897535</td>\n",
       "      <td>-83.066740</td>\n",
       "      <td>OT</td>\n",
       "      <td>0</td>\n",
       "      <td>-1</td>\n",
       "      <td>-1</td>\n",
       "      <td>0.017376</td>\n",
       "      <td>-54.417401</td>\n",
       "    </tr>\n",
       "    <tr>\n",
       "      <th>117795</th>\n",
       "      <td>610-224379</td>\n",
       "      <td>1993.0</td>\n",
       "      <td>1420</td>\n",
       "      <td>MEADOWBANK DR</td>\n",
       "      <td>WORTHINGTON</td>\n",
       "      <td>43085-1721</td>\n",
       "      <td>FRANKLIN</td>\n",
       "      <td>40.118736</td>\n",
       "      <td>-82.978237</td>\n",
       "      <td>PL</td>\n",
       "      <td>0</td>\n",
       "      <td>-1</td>\n",
       "      <td>-1</td>\n",
       "      <td>0.015287</td>\n",
       "      <td>-61.397845</td>\n",
       "    </tr>\n",
       "    <tr>\n",
       "      <th>5408</th>\n",
       "      <td>610-193219</td>\n",
       "      <td>1984.0</td>\n",
       "      <td>8424</td>\n",
       "      <td>BRIDLETREE WAY</td>\n",
       "      <td>COLUMBUS</td>\n",
       "      <td>43235-1492</td>\n",
       "      <td>FRANKLIN</td>\n",
       "      <td>40.134249</td>\n",
       "      <td>-83.023866</td>\n",
       "      <td>PL</td>\n",
       "      <td>0</td>\n",
       "      <td>-1</td>\n",
       "      <td>-1</td>\n",
       "      <td>0.016700</td>\n",
       "      <td>-56.497076</td>\n",
       "    </tr>\n",
       "    <tr>\n",
       "      <th>77528</th>\n",
       "      <td>570-233410</td>\n",
       "      <td>1997.0</td>\n",
       "      <td>4842</td>\n",
       "      <td>GILHEM CT</td>\n",
       "      <td>COLUMBUS</td>\n",
       "      <td>43228-5764</td>\n",
       "      <td>FRANKLIN</td>\n",
       "      <td>39.940702</td>\n",
       "      <td>-83.127993</td>\n",
       "      <td>PL</td>\n",
       "      <td>0</td>\n",
       "      <td>-1</td>\n",
       "      <td>-1</td>\n",
       "      <td>0.016558</td>\n",
       "      <td>-56.954879</td>\n",
       "    </tr>\n",
       "  </tbody>\n",
       "</table>\n",
       "</div>"
      ],
      "text/plain": [
       "         PARCEL ID  YEARBLT Street Number     Street Name         City  \\\n",
       "8257    010-160865   1974.0          2149      CORNELL ST     COLUMBUS   \n",
       "160139  010-300489   2022.0          4219  SALT SPRING LN     COLUMBUS   \n",
       "137031  273-003329   1987.0          5565  PARKER HILL LN       DUBLIN   \n",
       "79420   600-300689   2021.0          5653      GODETIA ST  WESTERVILLE   \n",
       "24707   050-008832   2002.0          2975       BOHLEN DR     HILLIARD   \n",
       "158780  010-032208   1920.0           424    S WARREN AVE     COLUMBUS   \n",
       "104968  040-004216   1972.0          2444        LARK AVE   GROVE CITY   \n",
       "117795  610-224379   1993.0          1420   MEADOWBANK DR  WORTHINGTON   \n",
       "5408    610-193219   1984.0          8424  BRIDLETREE WAY     COLUMBUS   \n",
       "77528   570-233410   1997.0          4842       GILHEM CT     COLUMBUS   \n",
       "\n",
       "          Zip Code    County   Latitude  Longitude  \\\n",
       "8257    43219-3518  FRANKLIN  40.015258 -82.928456   \n",
       "160139       43207  FRANKLIN  39.876504 -82.981888   \n",
       "137031  43017-3061  FRANKLIN  40.116246 -83.142205   \n",
       "79420        43081  FRANKLIN  40.095913 -82.865836   \n",
       "24707   43026-8578  FRANKLIN  40.012172 -83.161470   \n",
       "158780  43204-3060  FRANKLIN  39.946272 -83.070877   \n",
       "104968  43123-1817  FRANKLIN  39.897535 -83.066740   \n",
       "117795  43085-1721  FRANKLIN  40.118736 -82.978237   \n",
       "5408    43235-1492  FRANKLIN  40.134249 -83.023866   \n",
       "77528   43228-5764  FRANKLIN  39.940702 -83.127993   \n",
       "\n",
       "       System-Owned Portion Service Line Material Classification   is_lead  \\\n",
       "8257                                                   OT                0   \n",
       "160139                                                 CU                0   \n",
       "137031                                                 PL                0   \n",
       "79420                                                  CU                0   \n",
       "24707                                                  PL                0   \n",
       "158780                                                 PB                1   \n",
       "104968                                                 OT                0   \n",
       "117795                                                 PL                0   \n",
       "5408                                                   PL                0   \n",
       "77528                                                  PL                0   \n",
       "\n",
       "        is_lead_pm  nn_is_lead  nn_distance_km  nn_is_lead_weighted  \n",
       "8257            -1          -1        0.020539           -46.427596  \n",
       "160139          -1          -1        0.013182           -70.512766  \n",
       "137031          -1          -1        0.020206           -47.156547  \n",
       "79420           -1          -1        0.014822           -63.203886  \n",
       "24707           -1          -1        0.021875           -43.716660  \n",
       "158780           1           1        0.007144           122.783297  \n",
       "104968          -1          -1        0.017376           -54.417401  \n",
       "117795          -1          -1        0.015287           -61.397845  \n",
       "5408            -1          -1        0.016700           -56.497076  \n",
       "77528           -1          -1        0.016558           -56.954879  "
      ]
     },
     "execution_count": 26,
     "metadata": {},
     "output_type": "execute_result"
    }
   ],
   "source": [
    "df_match_combined_cleaned.sample(n=10)"
   ]
  },
  {
   "cell_type": "code",
   "execution_count": null,
   "id": "4fcc7103",
   "metadata": {},
   "outputs": [],
   "source": []
  }
 ],
 "metadata": {
  "kernelspec": {
   "display_name": "erdos_summer_2025",
   "language": "python",
   "name": "python3"
  },
  "language_info": {
   "codemirror_mode": {
    "name": "ipython",
    "version": 3
   },
   "file_extension": ".py",
   "mimetype": "text/x-python",
   "name": "python",
   "nbconvert_exporter": "python",
   "pygments_lexer": "ipython3",
   "version": "3.12.10"
  }
 },
 "nbformat": 4,
 "nbformat_minor": 5
}
