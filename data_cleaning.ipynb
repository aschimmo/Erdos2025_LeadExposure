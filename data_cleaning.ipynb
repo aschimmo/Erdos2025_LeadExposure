{
 "cells": [
  {
   "cell_type": "markdown",
   "id": "8f915ba8",
   "metadata": {},
   "source": [
    "# Data Cleaning for Lead Exposure Project"
   ]
  },
  {
   "cell_type": "code",
   "execution_count": 1,
   "id": "7f33906f",
   "metadata": {},
   "outputs": [],
   "source": [
    "# Packages to import\n",
    "import pandas as pd\n",
    "import numpy as np\n",
    "import matplotlib.pyplot as plt\n",
    "from rapidfuzz import process,fuzz"
   ]
  },
  {
   "cell_type": "markdown",
   "id": "ca1b6935",
   "metadata": {},
   "source": [
    "### Code to combine Service Line Inventory and Franklin County Parcel Data"
   ]
  },
  {
   "cell_type": "code",
   "execution_count": 2,
   "id": "6fb323e3",
   "metadata": {},
   "outputs": [
    {
     "name": "stderr",
     "output_type": "stream",
     "text": [
      "/var/folders/2l/qpy8_v3d5x7glst5y2hhkz6m0000gn/T/ipykernel_95440/1256978046.py:5: DtypeWarning: Columns (12,13,14,15,31,33,54,59,64,65) have mixed types. Specify dtype option on import or set low_memory=False.\n",
      "  df_parcel = pd.read_csv(url_parcel)\n"
     ]
    }
   ],
   "source": [
    "# Import data files\n",
    "\n",
    "# Documentation for the parcel data set is located at https://www.franklincountyauditor.com/AUDR-website/media/Documents/FTP/Parcel-CSV-description-of-fields.pdf\n",
    "url_parcel = \"https://apps.franklincountyauditor.com/Parcel_CSV/2025/05/Parcel.csv\"\n",
    "df_parcel = pd.read_csv(url_parcel)\n",
    "\n",
    "# Service Line inventory data set\n",
    "name_sl = \"ServiceLineInventory.csv\"\n",
    "df_sl = pd.read_csv(name_sl)"
   ]
  },
  {
   "cell_type": "code",
   "execution_count": 5,
   "id": "79aca5c1",
   "metadata": {},
   "outputs": [],
   "source": [
    "# Create common Street Address column\n",
    "df_sl[\"Street Address\"] = df_sl[\"Street Number\"].astype(str) + ' ' + df_sl[\"Street Name\"]\n",
    "\n",
    "# Delete duplicate rows in each data set\n",
    "df_parcel = df_parcel.drop_duplicates(subset=[\"STADDR\"])\n",
    "df_sl = df_sl.drop_duplicates(subset=[\"Street Address\"])"
   ]
  },
  {
   "cell_type": "code",
   "execution_count": null,
   "id": "158f7918",
   "metadata": {},
   "outputs": [
    {
     "name": "stdout",
     "output_type": "stream",
     "text": [
      "Number of unique properties in parcel registry: 424706\n",
      "Number of unique properties listed in service line inventory: 283876\n",
      "Number of unique matching addresses: 200470 (70.6%)\n",
      "Number of non-matching addresses: 83406 (29.4%)\n"
     ]
    }
   ],
   "source": [
    "# Find number of matching addresses in both data sets\n",
    "\n",
    "common_values = set(df_sl['Street Address']) & set(df_parcel['STADDR'])\n",
    "num_matches = len(common_values)\n",
    "num_sl = len(df_sl)\n",
    "num_parcel = len(df_parcel)\n",
    "\n",
    "percent_match = num_matches/num_sl*100\n",
    "percent_nomatch = 100-percent_match\n",
    "\n",
    "# Data frame with exact matches for addresses\n",
    "df_match_exact = pd.merge(df_sl, df_parcel, left_on=\"Street Address\", right_on=\"STADDR\", how=\"inner\")\n",
    "\n",
    "print(f\"Number of unique properties in parcel registry: {num_parcel}\")\n",
    "print(f\"Number of unique properties listed in service line inventory: {num_sl}\")\n",
    "print(f\"Number of unique matching addresses: {num_matches} ({percent_match:0.1f}%)\")\n",
    "print(f\"Number of non-matching addresses: {num_sl-num_matches} ({percent_nomatch:0.1f}%)\")\n"
   ]
  },
  {
   "cell_type": "code",
   "execution_count": 257,
   "id": "7a4b8f80",
   "metadata": {},
   "outputs": [
    {
     "name": "stdout",
     "output_type": "stream",
     "text": [
      "<class 'pandas.core.frame.DataFrame'>\n",
      "RangeIndex: 200470 entries, 0 to 200469\n",
      "Data columns (total 77 columns):\n",
      " #   Column                                                        Non-Null Count   Dtype  \n",
      "---  ------                                                        --------------   -----  \n",
      " 0   Street Number                                                 200470 non-null  object \n",
      " 1   Street Name                                                   200470 non-null  object \n",
      " 2   City                                                          200470 non-null  object \n",
      " 3   Zip Code                                                      200470 non-null  object \n",
      " 4   County                                                        200470 non-null  object \n",
      " 5   Latitude                                                      200470 non-null  float64\n",
      " 6   Longitude                                                     200470 non-null  float64\n",
      " 7   System-Owned Portion Service Line Material Classification     200470 non-null  object \n",
      " 8   If Non-Lead in Column R.. Was Material Ever Previously Lead?  200470 non-null  object \n",
      " 9   Customer-Owned Portion Service Line Material Classification   200470 non-null  object \n",
      " 10  Street Address                                                200470 non-null  object \n",
      " 11  PARCEL ID                                                     200470 non-null  object \n",
      " 12  AEXMLND                                                       200470 non-null  float64\n",
      " 13  AEXMBLD                                                       200470 non-null  float64\n",
      " 14  AEXMTOT                                                       200470 non-null  float64\n",
      " 15  APPRLND                                                       200470 non-null  float64\n",
      " 16  APPRBLD                                                       200470 non-null  float64\n",
      " 17  APPRTOT                                                       200470 non-null  float64\n",
      " 18  AUDMAP                                                        200462 non-null  object \n",
      " 19  AUDRTG                                                        200462 non-null  float64\n",
      " 20  LANDUSE                                                       200438 non-null  float64\n",
      " 21  CAUV                                                          198480 non-null  float64\n",
      " 22  SCHOOL                                                        200470 non-null  int64  \n",
      " 23  MAILAD1                                                       200445 non-null  object \n",
      " 24  MAILAD2                                                       39050 non-null   object \n",
      " 25  MAILAD3                                                       200418 non-null  object \n",
      " 26  MAILAD4                                                       200418 non-null  object \n",
      " 27  TRANDT                                                        200173 non-null  object \n",
      " 28  TRANYR                                                        200173 non-null  float64\n",
      " 29  NAME1                                                         200470 non-null  object \n",
      " 30  NAME2                                                         88254 non-null   object \n",
      " 31  NAME3                                                         0 non-null       float64\n",
      " 32  OWNER_ADD1                                                    188568 non-null  object \n",
      " 33  OWNER_ADD2                                                    188543 non-null  object \n",
      " 34  NBRHD                                                         200470 non-null  float64\n",
      " 35  FLOOD                                                         0 non-null       float64\n",
      " 36  PCLASS                                                        200454 non-null  object \n",
      " 37  NOCARDS                                                       199510 non-null  float64\n",
      " 38  ACREA                                                         200470 non-null  float64\n",
      " 39  PRICE                                                         200173 non-null  float64\n",
      " 40  ANN_TAX                                                       200470 non-null  float64\n",
      " 41  STHNUM                                                        200455 non-null  float64\n",
      " 42  STCONT                                                        4 non-null       object \n",
      " 43  STHSFX                                                        4 non-null       float64\n",
      " 44  STDIRE                                                        18462 non-null   object \n",
      " 45  STNAME                                                        200463 non-null  object \n",
      " 46  STSFX                                                         199214 non-null  object \n",
      " 47  USPS_CITY                                                     200468 non-null  object \n",
      " 48  STATE                                                         200470 non-null  object \n",
      " 49  ZIPCODE                                                       200468 non-null  float64\n",
      " 50  DESCR1                                                        200433 non-null  object \n",
      " 51  DESCR2                                                        200213 non-null  object \n",
      " 52  DESCR3                                                        188590 non-null  object \n",
      " 53  TAXDESI                                                       200470 non-null  object \n",
      " 54  VALID                                                         200470 non-null  object \n",
      " 55  AREA_A                                                        200470 non-null  float64\n",
      " 56  DWELTYP                                                       190828 non-null  float64\n",
      " 57  ROOMS                                                         200470 non-null  int64  \n",
      " 58  BATHS                                                         200470 non-null  int64  \n",
      " 59  HBATHS                                                        200470 non-null  int64  \n",
      " 60  BEDRMS                                                        200470 non-null  int64  \n",
      " 61  AIRCOND                                                       200470 non-null  float64\n",
      " 62  CINBRHD                                                       0 non-null       float64\n",
      " 63  COND                                                          0 non-null       float64\n",
      " 64  FIREPLC                                                       80567 non-null   object \n",
      " 65  GRADE                                                         190823 non-null  object \n",
      " 66  HEIGHT                                                        190805 non-null  object \n",
      " 67  NOSTORY                                                       190828 non-null  float64\n",
      " 68  YEARBLT                                                       190828 non-null  float64\n",
      " 69  PROPTYP                                                       0 non-null       object \n",
      " 70  WALL                                                          190824 non-null  object \n",
      " 71  TIFMLND                                                       200470 non-null  float64\n",
      " 72  TIFMBLD                                                       200470 non-null  float64\n",
      " 73  POINT_X                                                       200470 non-null  float64\n",
      " 74  POINT_Y                                                       200470 non-null  object \n",
      " 75  HOMSTD                                                        21657 non-null   object \n",
      " 76  BANKCODE                                                      0 non-null       float64\n",
      "dtypes: float64(33), int64(5), object(39)\n",
      "memory usage: 117.8+ MB\n"
     ]
    }
   ],
   "source": [
    "df_match_exact.info()"
   ]
  },
  {
   "cell_type": "code",
   "execution_count": null,
   "id": "287b21b7",
   "metadata": {},
   "outputs": [
    {
     "name": "stderr",
     "output_type": "stream",
     "text": [
      "/var/folders/2l/qpy8_v3d5x7glst5y2hhkz6m0000gn/T/ipykernel_95440/94512937.py:52: DtypeWarning: Columns (1) have mixed types. Specify dtype option on import or set low_memory=False.\n",
      "  df_match_near = pd.read_csv('data_match_near.csv')\n"
     ]
    }
   ],
   "source": [
    "# Pull out all rows from Service Line Inventory without exact address matches\n",
    "df_non_matches = df_sl[~df_sl[\"Street Address\"].isin(df_parcel[\"STADDR\"])]\n",
    "\n",
    "# Consider a small sample of these rows\n",
    "df_non_matches_sample = df_non_matches.sample(n=50)\n",
    "\n",
    "def get_best_match(addr, choices, scorer=fuzz.token_sort_ratio):\n",
    "    '''\n",
    "    Use fuzzy logic package to match addresses. \n",
    "    addr: target address\n",
    "    choices: range of possible addresses to match\n",
    "    scorer: scoring method for fuzzy logic algorithm\n",
    "    returns Pandas series containing the matched address and corresponding score\n",
    "    '''\n",
    "\n",
    "    results = process.extract(addr, choices, scorer=scorer,limit=5, score_cutoff=80)\n",
    "\n",
    "    # If there are no results, return None\n",
    "    if not results:\n",
    "        return pd.Series([None, None])\n",
    "    \n",
    "\n",
    "     # See if address numbers are identical for any of the potential matches\n",
    "    address_no = addr.split()[0]\n",
    "    \n",
    "    for match, score, _ in results:\n",
    "        match_no = match.split()[0]\n",
    "        if match_no == address_no:\n",
    "            return pd.Series([match, score])\n",
    "    \n",
    "    # If no house number matches, return None\n",
    "    return pd.Series([None, None])\n",
    "\n",
    "        \n",
    "## Get matches for sample dataset\n",
    "\"\"\"\n",
    "df_non_matches_sample[[\"Best Match\", \"Match Score\"]] = df_non_matches_sample[\"Street Address\"].apply(lambda addr: get_best_match(addr, df_parcel['STADDR']))\n",
    "df_match_near = pd.merge(df_non_matches_sample, df_parcel, left_on=\"Best Match\", right_on=\"STADDR\", how=\"inner\")\n",
    "df_match_near = df_match_near.dropna(subset=['Best Match'])\n",
    "\"\"\"\n",
    "\n",
    "## Get matches for entire dataset\n",
    "\"\"\"\n",
    "df_non_matches[[\"Best Match\", \"Match Score\"]] = df_non_matches[\"Street Address\"].apply(lambda addr: get_best_match(addr, df_parcel['STADDR']))\n",
    "df_match_near = pd.merge(df_non_matches,df_parcel, left_on=\"Best Match\", right_on=\"STADDR\", how=\"inner\")\n",
    "df_match_near = df_match_near.dropna(subset=['Best Match'])\n",
    "\n",
    "df_match_near.to_csv('data_match_near.csv')\n",
    "\"\"\""
   ]
  },
  {
   "cell_type": "code",
   "execution_count": 23,
   "id": "b79299b4",
   "metadata": {},
   "outputs": [
    {
     "name": "stderr",
     "output_type": "stream",
     "text": [
      "/var/folders/2l/qpy8_v3d5x7glst5y2hhkz6m0000gn/T/ipykernel_95440/2859446677.py:2: DtypeWarning: Columns (1) have mixed types. Specify dtype option on import or set low_memory=False.\n",
      "  df_match_near = pd.read_csv('data_match_near.csv')\n"
     ]
    }
   ],
   "source": [
    "# Load near matches data\n",
    "df_match_near = pd.read_csv('data_match_near.csv')\n",
    "\n",
    "# Clean up the two dataframes so they can be combined\n",
    "\n",
    "df_match_exact[\"Match Score\"] = 100\n",
    "\n",
    "columns_filtered = ['PARCEL ID', 'YEARBLT', 'APPRTOT', 'PRICE', 'GRADE',\n",
    "                    'Street Number', 'Street Name', 'City', 'Zip Code', 'County', 'Latitude', 'Longitude', \n",
    "                    'System-Owned Portion Service Line Material Classification ',\n",
    "                    'If Non-Lead in Column R.. Was Material Ever Previously Lead?',\n",
    "                    'Customer-Owned Portion Service Line Material Classification']\n",
    "\n",
    "df_match_exact_filtered = df_match_exact[columns_filtered]\n",
    "df_match_near_filtered = df_match_near[columns_filtered]\n",
    "\n",
    "# Dataframe with data for matched addresses in parcel and service line inventory\n",
    "df_match_combined_filtered = pd.concat([df_match_exact_filtered,df_match_near_filtered])\n"
   ]
  },
  {
   "cell_type": "code",
   "execution_count": 25,
   "id": "e74de1c6",
   "metadata": {},
   "outputs": [
    {
     "data": {
      "text/plain": [
       "PARCEL ID                                                           0\n",
       "YEARBLT                                                         13046\n",
       "APPRTOT                                                             0\n",
       "PRICE                                                             327\n",
       "GRADE                                                           13052\n",
       "Street Number                                                       0\n",
       "Street Name                                                         0\n",
       "City                                                                0\n",
       "Zip Code                                                            0\n",
       "County                                                              0\n",
       "Latitude                                                            0\n",
       "Longitude                                                           0\n",
       "System-Owned Portion Service Line Material Classification           0\n",
       "If Non-Lead in Column R.. Was Material Ever Previously Lead?        0\n",
       "Customer-Owned Portion Service Line Material Classification         0\n",
       "dtype: int64"
      ]
     },
     "execution_count": 25,
     "metadata": {},
     "output_type": "execute_result"
    }
   ],
   "source": [
    "df_match_combined_filtered.isnull().sum()"
   ]
  },
  {
   "cell_type": "code",
   "execution_count": 27,
   "id": "dc208168",
   "metadata": {},
   "outputs": [
    {
     "name": "stdout",
     "output_type": "stream",
     "text": [
      "<class 'pandas.core.frame.DataFrame'>\n",
      "Index: 224190 entries, 0 to 37074\n",
      "Data columns (total 15 columns):\n",
      " #   Column                                                        Non-Null Count   Dtype  \n",
      "---  ------                                                        --------------   -----  \n",
      " 0   PARCEL ID                                                     224190 non-null  object \n",
      " 1   YEARBLT                                                       224190 non-null  float64\n",
      " 2   APPRTOT                                                       224190 non-null  float64\n",
      " 3   PRICE                                                         224190 non-null  float64\n",
      " 4   GRADE                                                         224190 non-null  object \n",
      " 5   Street Number                                                 224190 non-null  object \n",
      " 6   Street Name                                                   224190 non-null  object \n",
      " 7   City                                                          224190 non-null  object \n",
      " 8   Zip Code                                                      224190 non-null  object \n",
      " 9   County                                                        224190 non-null  object \n",
      " 10  Latitude                                                      224190 non-null  float64\n",
      " 11  Longitude                                                     224190 non-null  float64\n",
      " 12  System-Owned Portion Service Line Material Classification     224190 non-null  object \n",
      " 13  If Non-Lead in Column R.. Was Material Ever Previously Lead?  224190 non-null  object \n",
      " 14  Customer-Owned Portion Service Line Material Classification   224190 non-null  object \n",
      "dtypes: float64(5), object(10)\n",
      "memory usage: 27.4+ MB\n"
     ]
    }
   ],
   "source": [
    "df_match_combined_cleaned = df_match_combined_filtered.dropna()\n",
    "df_match_combined_cleaned.info()"
   ]
  },
  {
   "cell_type": "code",
   "execution_count": 34,
   "id": "b5309514",
   "metadata": {},
   "outputs": [
    {
     "name": "stdout",
     "output_type": "stream",
     "text": [
      "Number of unique properties in parcel registry: 424706\n",
      "Number of unique properties listed in service line inventory: 283876\n",
      "Number of unique matching addresses: 200470 (70.6%)\n",
      "Number of nearly matching addresses: 37075 (13.1%)\n",
      "Number of non-matching addresses: 83406 (16.3%) \n",
      "\n",
      "Total number of properties with matching addresses and non-null entries:\n",
      "224190 (79.0%)\n"
     ]
    }
   ],
   "source": [
    "# Summarize data cleaning process\n",
    "common_values = set(df_sl['Street Address']) & set(df_parcel['STADDR'])\n",
    "num_matches = len(common_values)\n",
    "num_sl = len(df_sl)\n",
    "num_parcel = len(df_parcel)\n",
    "\n",
    "num_near_matches = len(df_match_near)\n",
    "\n",
    "percent_match = num_matches/num_sl*100\n",
    "percent_near_match = num_near_matches/num_sl*100\n",
    "percent_nomatch = 100-percent_match - percent_near_match\n",
    "\n",
    "num_rows_final = len(df_match_combined_cleaned)\n",
    "percent_final = num_rows_final/num_sl*100\n",
    "\n",
    "print(f\"Number of unique properties in parcel registry: {num_parcel}\")\n",
    "print(f\"Number of unique properties listed in service line inventory: {num_sl}\")\n",
    "print(f\"Number of unique matching addresses: {num_matches} ({percent_match:0.1f}%)\")\n",
    "print(f\"Number of nearly matching addresses: {num_near_matches} ({percent_near_match:0.1f}%)\")\n",
    "print(f\"Number of non-matching addresses: {num_sl-num_matches} ({percent_nomatch:0.1f}%) \\n\")\n",
    "\n",
    "print(f\"Total number of properties with matching addresses and non-null entries:\")\n",
    "print(f\"{num_rows_final} ({percent_final:0.1f}%)\")       "
   ]
  },
  {
   "cell_type": "code",
   "execution_count": 35,
   "id": "38001f0c",
   "metadata": {},
   "outputs": [],
   "source": [
    "# Save cleaned dataframe as csv.\n",
    "df_match_combined_cleaned.to_csv('df_cleaned.csv')"
   ]
  },
  {
   "cell_type": "code",
   "execution_count": 15,
   "id": "b1bf53ac",
   "metadata": {},
   "outputs": [
    {
     "data": {
      "image/png": "[encoded data removed]",
      "text/plain": [
       "<Figure size 640x480 with 1 Axes>"
      ]
     },
     "metadata": {},
     "output_type": "display_data"
    }
   ],
   "source": [
    "plt.hist(df_match_near[\"Match Score\"], bins=np.arange(60,105,10))\n",
    "plt.xlabel('Fuzzy Logic Score')\n",
    "plt.ylabel('Address Counts')\n",
    "plt.show()"
   ]
  }
 ],
 "metadata": {
  "kernelspec": {
   "display_name": "erdos_summer_2025",
   "language": "python",
   "name": "python3"
  },
  "language_info": {
   "codemirror_mode": {
    "name": "ipython",
    "version": 3
   },
   "file_extension": ".py",
   "mimetype": "text/x-python",
   "name": "python",
   "nbconvert_exporter": "python",
   "pygments_lexer": "ipython3",
   "version": "3.12.10"
  }
 },
 "nbformat": 4,
 "nbformat_minor": 5
}
